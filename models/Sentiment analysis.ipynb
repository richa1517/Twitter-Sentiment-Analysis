{
 "cells": [
  {
   "cell_type": "code",
   "execution_count": 8,
   "id": "00efd456",
   "metadata": {},
   "outputs": [
    {
     "name": "stdout",
     "output_type": "stream",
     "text": [
      "Requirement already satisfied: eli5 in c:\\users\\shree\\appdata\\local\\programs\\python\\python38\\lib\\site-packages (0.11.0)\n",
      "Requirement already satisfied: lime in c:\\users\\shree\\appdata\\local\\programs\\python\\python38\\lib\\site-packages (0.2.0.1)\n",
      "Requirement already satisfied: dalex in c:\\users\\shree\\appdata\\local\\programs\\python\\python38\\lib\\site-packages (1.4.1)\n",
      "Requirement already satisfied: neattext in c:\\users\\shree\\appdata\\local\\programs\\python\\python38\\lib\\site-packages (0.1.2)\n",
      "Requirement already satisfied: six in c:\\users\\shree\\appdata\\roaming\\python\\python38\\site-packages (from eli5) (1.15.0)\n",
      "Requirement already satisfied: attrs>16.0.0 in c:\\users\\shree\\appdata\\local\\programs\\python\\python38\\lib\\site-packages (from eli5) (21.2.0)\n",
      "Requirement already satisfied: graphviz in c:\\users\\shree\\appdata\\local\\programs\\python\\python38\\lib\\site-packages (from eli5) (0.19)\n",
      "Requirement already satisfied: scipy in c:\\users\\shree\\appdata\\local\\programs\\python\\python38\\lib\\site-packages (from eli5) (1.7.3)\n",
      "Requirement already satisfied: numpy>=1.9.0 in c:\\users\\shree\\appdata\\local\\programs\\python\\python38\\lib\\site-packages (from eli5) (1.21.4)\n",
      "Requirement already satisfied: scikit-learn>=0.20 in c:\\users\\shree\\appdata\\local\\programs\\python\\python38\\lib\\site-packages (from eli5) (1.0.1)\n",
      "Requirement already satisfied: tabulate>=0.7.7 in c:\\users\\shree\\appdata\\local\\programs\\python\\python38\\lib\\site-packages (from eli5) (0.8.9)\n",
      "Requirement already satisfied: jinja2 in c:\\users\\shree\\appdata\\local\\programs\\python\\python38\\lib\\site-packages (from eli5) (2.11.3)\n",
      "Requirement already satisfied: matplotlib in c:\\users\\shree\\appdata\\local\\programs\\python\\python38\\lib\\site-packages (from lime) (3.5.0)\n",
      "Requirement already satisfied: tqdm in c:\\users\\shree\\appdata\\local\\programs\\python\\python38\\lib\\site-packages (from lime) (4.62.3)\n",
      "Requirement already satisfied: scikit-image>=0.12 in c:\\users\\shree\\appdata\\local\\programs\\python\\python38\\lib\\site-packages (from lime) (0.18.3)\n",
      "Requirement already satisfied: setuptools in c:\\users\\shree\\appdata\\local\\programs\\python\\python38\\lib\\site-packages (from dalex) (47.1.0)\n",
      "Requirement already satisfied: pandas>=1.1.2 in c:\\users\\shree\\appdata\\local\\programs\\python\\python38\\lib\\site-packages (from dalex) (1.3.4)\n",
      "Requirement already satisfied: plotly>=4.12.0 in c:\\users\\shree\\appdata\\local\\programs\\python\\python38\\lib\\site-packages (from dalex) (5.4.0)\n",
      "Requirement already satisfied: threadpoolctl>=2.0.0 in c:\\users\\shree\\appdata\\local\\programs\\python\\python38\\lib\\site-packages (from scikit-learn>=0.20->eli5) (3.0.0)\n",
      "Requirement already satisfied: joblib>=0.11 in c:\\users\\shree\\appdata\\local\\programs\\python\\python38\\lib\\site-packages (from scikit-learn>=0.20->eli5) (1.1.0)\n",
      "Requirement already satisfied: MarkupSafe>=0.23 in c:\\users\\shree\\appdata\\local\\programs\\python\\python38\\lib\\site-packages (from jinja2->eli5) (1.1.1)\n",
      "Requirement already satisfied: python-dateutil>=2.7 in c:\\users\\shree\\appdata\\roaming\\python\\python38\\site-packages (from matplotlib->lime) (2.8.1)\n",
      "Requirement already satisfied: cycler>=0.10 in c:\\users\\shree\\appdata\\local\\programs\\python\\python38\\lib\\site-packages (from matplotlib->lime) (0.11.0)\n",
      "Requirement already satisfied: pyparsing>=2.2.1 in c:\\users\\shree\\appdata\\local\\programs\\python\\python38\\lib\\site-packages (from matplotlib->lime) (2.4.7)\n",
      "Requirement already satisfied: kiwisolver>=1.0.1 in c:\\users\\shree\\appdata\\local\\programs\\python\\python38\\lib\\site-packages (from matplotlib->lime) (1.3.2)\n",
      "Requirement already satisfied: fonttools>=4.22.0 in c:\\users\\shree\\appdata\\local\\programs\\python\\python38\\lib\\site-packages (from matplotlib->lime) (4.28.2)\n",
      "Requirement already satisfied: setuptools-scm>=4 in c:\\users\\shree\\appdata\\local\\programs\\python\\python38\\lib\\site-packages (from matplotlib->lime) (6.3.2)\n",
      "Requirement already satisfied: packaging>=20.0 in c:\\users\\shree\\appdata\\local\\programs\\python\\python38\\lib\\site-packages (from matplotlib->lime) (21.0)\n",
      "Requirement already satisfied: pillow>=6.2.0 in c:\\users\\shree\\appdata\\local\\programs\\python\\python38\\lib\\site-packages (from matplotlib->lime) (8.4.0)\n",
      "Requirement already satisfied: colorama; platform_system == \"Windows\" in c:\\users\\shree\\appdata\\roaming\\python\\python38\\site-packages (from tqdm->lime) (0.4.4)\n",
      "Requirement already satisfied: imageio>=2.3.0 in c:\\users\\shree\\appdata\\local\\programs\\python\\python38\\lib\\site-packages (from scikit-image>=0.12->lime) (2.13.1)\n",
      "Requirement already satisfied: networkx>=2.0 in c:\\users\\shree\\appdata\\local\\programs\\python\\python38\\lib\\site-packages (from scikit-image>=0.12->lime) (2.6.3)\n",
      "Requirement already satisfied: tifffile>=2019.7.26 in c:\\users\\shree\\appdata\\local\\programs\\python\\python38\\lib\\site-packages (from scikit-image>=0.12->lime) (2021.11.2)\n",
      "Requirement already satisfied: PyWavelets>=1.1.1 in c:\\users\\shree\\appdata\\local\\programs\\python\\python38\\lib\\site-packages (from scikit-image>=0.12->lime) (1.2.0)\n",
      "Requirement already satisfied: pytz>=2017.3 in c:\\users\\shree\\appdata\\local\\programs\\python\\python38\\lib\\site-packages (from pandas>=1.1.2->dalex) (2021.3)\n",
      "Requirement already satisfied: tenacity>=6.2.0 in c:\\users\\shree\\appdata\\local\\programs\\python\\python38\\lib\\site-packages (from plotly>=4.12.0->dalex) (8.0.1)\n",
      "Requirement already satisfied: tomli>=1.0.0 in c:\\users\\shree\\appdata\\local\\programs\\python\\python38\\lib\\site-packages (from setuptools-scm>=4->matplotlib->lime) (1.2.2)\n",
      "Note: you may need to restart the kernel to use updated packages.\n"
     ]
    },
    {
     "name": "stderr",
     "output_type": "stream",
     "text": [
      "WARNING: You are using pip version 20.1.1; however, version 21.3.1 is available.\n",
      "You should consider upgrading via the 'c:\\users\\shree\\appdata\\local\\programs\\python\\python38\\python.exe -m pip install --upgrade pip' command.\n"
     ]
    }
   ],
   "source": [
    "pip install eli5 lime dalex neattext "
   ]
  },
  {
   "cell_type": "code",
   "execution_count": 9,
   "id": "51e9115d",
   "metadata": {},
   "outputs": [
    {
     "name": "stdout",
     "output_type": "stream",
     "text": [
      "Requirement already satisfied: pandas in c:\\users\\shree\\appdata\\local\\programs\\python\\python38\\lib\\site-packages (1.3.4)\n",
      "Requirement already satisfied: spacy in c:\\users\\shree\\appdata\\local\\programs\\python\\python38\\lib\\site-packages (3.2.0)\n",
      "Requirement already satisfied: numpy in c:\\users\\shree\\appdata\\local\\programs\\python\\python38\\lib\\site-packages (1.21.4)\n",
      "Requirement already satisfied: seaborn in c:\\users\\shree\\appdata\\local\\programs\\python\\python38\\lib\\site-packages (0.11.2)\n",
      "Requirement already satisfied: pytz>=2017.3 in c:\\users\\shree\\appdata\\local\\programs\\python\\python38\\lib\\site-packages (from pandas) (2021.3)\n",
      "Requirement already satisfied: python-dateutil>=2.7.3 in c:\\users\\shree\\appdata\\roaming\\python\\python38\\site-packages (from pandas) (2.8.1)\n",
      "Requirement already satisfied: wasabi<1.1.0,>=0.8.1 in c:\\users\\shree\\appdata\\local\\programs\\python\\python38\\lib\\site-packages (from spacy) (0.8.2)\n",
      "Requirement already satisfied: cymem<2.1.0,>=2.0.2 in c:\\users\\shree\\appdata\\local\\programs\\python\\python38\\lib\\site-packages (from spacy) (2.0.6)\n",
      "Requirement already satisfied: spacy-loggers<2.0.0,>=1.0.0 in c:\\users\\shree\\appdata\\local\\programs\\python\\python38\\lib\\site-packages (from spacy) (1.0.1)\n",
      "Requirement already satisfied: packaging>=20.0 in c:\\users\\shree\\appdata\\local\\programs\\python\\python38\\lib\\site-packages (from spacy) (21.0)\n",
      "Requirement already satisfied: typer<0.5.0,>=0.3.0 in c:\\users\\shree\\appdata\\local\\programs\\python\\python38\\lib\\site-packages (from spacy) (0.4.0)\n",
      "Requirement already satisfied: preshed<3.1.0,>=3.0.2 in c:\\users\\shree\\appdata\\local\\programs\\python\\python38\\lib\\site-packages (from spacy) (3.0.6)\n",
      "Requirement already satisfied: blis<0.8.0,>=0.4.0 in c:\\users\\shree\\appdata\\local\\programs\\python\\python38\\lib\\site-packages (from spacy) (0.7.5)\n",
      "Requirement already satisfied: requests<3.0.0,>=2.13.0 in c:\\users\\shree\\appdata\\local\\programs\\python\\python38\\lib\\site-packages (from spacy) (2.24.0)\n",
      "Requirement already satisfied: pydantic!=1.8,!=1.8.1,<1.9.0,>=1.7.4 in c:\\users\\shree\\appdata\\local\\programs\\python\\python38\\lib\\site-packages (from spacy) (1.8.2)\n",
      "Requirement already satisfied: pathy>=0.3.5 in c:\\users\\shree\\appdata\\local\\programs\\python\\python38\\lib\\site-packages (from spacy) (0.6.1)\n",
      "Requirement already satisfied: thinc<8.1.0,>=8.0.12 in c:\\users\\shree\\appdata\\local\\programs\\python\\python38\\lib\\site-packages (from spacy) (8.0.13)\n",
      "Requirement already satisfied: catalogue<2.1.0,>=2.0.6 in c:\\users\\shree\\appdata\\local\\programs\\python\\python38\\lib\\site-packages (from spacy) (2.0.6)\n",
      "Requirement already satisfied: murmurhash<1.1.0,>=0.28.0 in c:\\users\\shree\\appdata\\local\\programs\\python\\python38\\lib\\site-packages (from spacy) (1.0.6)\n",
      "Requirement already satisfied: spacy-legacy<3.1.0,>=3.0.8 in c:\\users\\shree\\appdata\\local\\programs\\python\\python38\\lib\\site-packages (from spacy) (3.0.8)\n",
      "Requirement already satisfied: setuptools in c:\\users\\shree\\appdata\\local\\programs\\python\\python38\\lib\\site-packages (from spacy) (47.1.0)Note: you may need to restart the kernel to use updated packages.\n",
      "Requirement already satisfied: tqdm<5.0.0,>=4.38.0 in c:\\users\\shree\\appdata\\local\\programs\\python\\python38\\lib\\site-packages (from spacy) (4.62.3)\n",
      "Requirement already satisfied: jinja2 in c:\\users\\shree\\appdata\\local\\programs\\python\\python38\\lib\\site-packages (from spacy) (2.11.3)\n",
      "Requirement already satisfied: langcodes<4.0.0,>=3.2.0 in c:\\users\\shree\\appdata\\local\\programs\\python\\python38\\lib\\site-packages (from spacy) (3.3.0)\n"
     ]
    },
    {
     "name": "stderr",
     "output_type": "stream",
     "text": [
      "WARNING: You are using pip version 20.1.1; however, version 21.3.1 is available.\n",
      "You should consider upgrading via the 'c:\\users\\shree\\appdata\\local\\programs\\python\\python38\\python.exe -m pip install --upgrade pip' command.\n"
     ]
    },
    {
     "name": "stdout",
     "output_type": "stream",
     "text": [
      "\n",
      "Requirement already satisfied: srsly<3.0.0,>=2.4.1 in c:\\users\\shree\\appdata\\local\\programs\\python\\python38\\lib\\site-packages (from spacy) (2.4.2)\n",
      "Requirement already satisfied: scipy>=1.0 in c:\\users\\shree\\appdata\\local\\programs\\python\\python38\\lib\\site-packages (from seaborn) (1.7.3)\n",
      "Requirement already satisfied: matplotlib>=2.2 in c:\\users\\shree\\appdata\\local\\programs\\python\\python38\\lib\\site-packages (from seaborn) (3.5.0)\n",
      "Requirement already satisfied: six>=1.5 in c:\\users\\shree\\appdata\\roaming\\python\\python38\\site-packages (from python-dateutil>=2.7.3->pandas) (1.15.0)\n",
      "Requirement already satisfied: pyparsing>=2.0.2 in c:\\users\\shree\\appdata\\local\\programs\\python\\python38\\lib\\site-packages (from packaging>=20.0->spacy) (2.4.7)\n",
      "Requirement already satisfied: click<9.0.0,>=7.1.1 in c:\\users\\shree\\appdata\\local\\programs\\python\\python38\\lib\\site-packages (from typer<0.5.0,>=0.3.0->spacy) (7.1.2)\n",
      "Requirement already satisfied: certifi>=2017.4.17 in c:\\users\\shree\\appdata\\local\\programs\\python\\python38\\lib\\site-packages (from requests<3.0.0,>=2.13.0->spacy) (2020.6.20)\n",
      "Requirement already satisfied: chardet<4,>=3.0.2 in c:\\users\\shree\\appdata\\local\\programs\\python\\python38\\lib\\site-packages (from requests<3.0.0,>=2.13.0->spacy) (3.0.4)\n",
      "Requirement already satisfied: urllib3!=1.25.0,!=1.25.1,<1.26,>=1.21.1 in c:\\users\\shree\\appdata\\local\\programs\\python\\python38\\lib\\site-packages (from requests<3.0.0,>=2.13.0->spacy) (1.25.10)\n",
      "Requirement already satisfied: idna<3,>=2.5 in c:\\users\\shree\\appdata\\local\\programs\\python\\python38\\lib\\site-packages (from requests<3.0.0,>=2.13.0->spacy) (2.10)\n",
      "Requirement already satisfied: typing-extensions>=3.7.4.3 in c:\\users\\shree\\appdata\\local\\programs\\python\\python38\\lib\\site-packages (from pydantic!=1.8,!=1.8.1,<1.9.0,>=1.7.4->spacy) (4.0.0)\n",
      "Requirement already satisfied: smart-open<6.0.0,>=5.0.0 in c:\\users\\shree\\appdata\\local\\programs\\python\\python38\\lib\\site-packages (from pathy>=0.3.5->spacy) (5.2.1)\n",
      "Requirement already satisfied: colorama; platform_system == \"Windows\" in c:\\users\\shree\\appdata\\roaming\\python\\python38\\site-packages (from tqdm<5.0.0,>=4.38.0->spacy) (0.4.4)\n",
      "Requirement already satisfied: MarkupSafe>=0.23 in c:\\users\\shree\\appdata\\local\\programs\\python\\python38\\lib\\site-packages (from jinja2->spacy) (1.1.1)\n",
      "Requirement already satisfied: setuptools-scm>=4 in c:\\users\\shree\\appdata\\local\\programs\\python\\python38\\lib\\site-packages (from matplotlib>=2.2->seaborn) (6.3.2)\n",
      "Requirement already satisfied: pillow>=6.2.0 in c:\\users\\shree\\appdata\\local\\programs\\python\\python38\\lib\\site-packages (from matplotlib>=2.2->seaborn) (8.4.0)\n",
      "Requirement already satisfied: fonttools>=4.22.0 in c:\\users\\shree\\appdata\\local\\programs\\python\\python38\\lib\\site-packages (from matplotlib>=2.2->seaborn) (4.28.2)\n",
      "Requirement already satisfied: cycler>=0.10 in c:\\users\\shree\\appdata\\local\\programs\\python\\python38\\lib\\site-packages (from matplotlib>=2.2->seaborn) (0.11.0)\n",
      "Requirement already satisfied: kiwisolver>=1.0.1 in c:\\users\\shree\\appdata\\local\\programs\\python\\python38\\lib\\site-packages (from matplotlib>=2.2->seaborn) (1.3.2)\n",
      "Requirement already satisfied: tomli>=1.0.0 in c:\\users\\shree\\appdata\\local\\programs\\python\\python38\\lib\\site-packages (from setuptools-scm>=4->matplotlib>=2.2->seaborn) (1.2.2)\n"
     ]
    }
   ],
   "source": [
    "pip install pandas spacy numpy seaborn"
   ]
  },
  {
   "cell_type": "code",
   "execution_count": 10,
   "id": "ee780ede",
   "metadata": {},
   "outputs": [
    {
     "name": "stdout",
     "output_type": "stream",
     "text": [
      "Requirement already satisfied: altair in c:\\users\\shree\\appdata\\local\\programs\\python\\python38\\lib\\site-packages (4.1.0)Note: you may need to restart the kernel to use updated packages.\n",
      "Requirement already satisfied: streamlit in c:\\users\\shree\\appdata\\local\\programs\\python\\python38\\lib\\site-packages (1.2.0)\n",
      "Requirement already satisfied: scikit-learn in c:\\users\\shree\\appdata\\local\\programs\\python\\python38\\lib\\site-packages (1.0.1)\n",
      "Requirement already satisfied: jsonschema in c:\\users\\shree\\appdata\\local\\programs\\python\\python38\\lib\\site-packages (from altair) (4.1.0)\n",
      "Requirement already satisfied: toolz in c:\\users\\shree\\appdata\\local\\programs\\python\\python38\\lib\\site-packages (from altair) (0.11.2)\n",
      "Requirement already satisfied: pandas>=0.18 in c:\\users\\shree\\appdata\\local\\programs\\python\\python38\\lib\\site-packages (from altair) (1.3.4)\n",
      "Requirement already satisfied: jinja2 in c:\\users\\shree\\appdata\\local\\programs\\python\\python38\\lib\\site-packages (from altair) (2.11.3)\n",
      "Requirement already satisfied: entrypoints in c:\\users\\shree\\appdata\\local\\programs\\python\\python38\\lib\\site-packages (from altair) (0.3)\n",
      "Requirement already satisfied: numpy in c:\\users\\shree\\appdata\\local\\programs\\python\\python38\\lib\\site-packages (from altair) (1.21.4)\n",
      "Requirement already satisfied: pympler>=0.9 in c:\\users\\shree\\appdata\\local\\programs\\python\\python38\\lib\\site-packages (from streamlit) (0.9)\n",
      "Requirement already satisfied: astor in c:\\users\\shree\\appdata\\local\\programs\\python\\python38\\lib\\site-packages (from streamlit) (0.8.1)\n",
      "Requirement already satisfied: cachetools>=4.0 in c:\\users\\shree\\appdata\\local\\programs\\python\\python38\\lib\\site-packages (from streamlit) (4.2.4)\n",
      "Requirement already satisfied: python-dateutil in c:\\users\\shree\\appdata\\roaming\\python\\python38\\site-packages (from streamlit) (2.8.1)\n",
      "Requirement already satisfied: click<8.0,>=7.0 in c:\\users\\shree\\appdata\\local\\programs\\python\\python38\\lib\\site-packages (from streamlit) (7.1.2)\n",
      "Requirement already satisfied: packaging in c:\\users\\shree\\appdata\\local\\programs\\python\\python38\\lib\\site-packages (from streamlit) (21.0)\n",
      "Requirement already satisfied: blinker in c:\\users\\shree\\appdata\\local\\programs\\python\\python38\\lib\\site-packages (from streamlit) (1.4)\n",
      "Requirement already satisfied: protobuf!=3.11,>=3.6.0 in c:\\users\\shree\\appdata\\local\\programs\\python\\python38\\lib\\site-packages (from streamlit) (3.19.1)\n",
      "Requirement already satisfied: watchdog; platform_system != \"Darwin\" in c:\\users\\shree\\appdata\\local\\programs\\python\\python38\\lib\\site-packages (from streamlit) (2.1.6)\n",
      "Requirement already satisfied: base58 in c:\\users\\shree\\appdata\\local\\programs\\python\\python38\\lib\\site-packages (from streamlit) (2.1.1)\n",
      "Requirement already satisfied: pillow>=6.2.0 in c:\\users\\shree\\appdata\\local\\programs\\python\\python38\\lib\\site-packages (from streamlit) (8.4.0)\n"
     ]
    },
    {
     "name": "stderr",
     "output_type": "stream",
     "text": [
      "WARNING: You are using pip version 20.1.1; however, version 21.3.1 is available.\n",
      "You should consider upgrading via the 'c:\\users\\shree\\appdata\\local\\programs\\python\\python38\\python.exe -m pip install --upgrade pip' command.\n"
     ]
    },
    {
     "name": "stdout",
     "output_type": "stream",
     "text": [
      "\n",
      "Requirement already satisfied: requests in c:\\users\\shree\\appdata\\local\\programs\\python\\python38\\lib\\site-packages (from streamlit) (2.24.0)\n",
      "Requirement already satisfied: attrs in c:\\users\\shree\\appdata\\local\\programs\\python\\python38\\lib\\site-packages (from streamlit) (21.2.0)\n",
      "Requirement already satisfied: pydeck>=0.1.dev5 in c:\\users\\shree\\appdata\\local\\programs\\python\\python38\\lib\\site-packages (from streamlit) (0.7.1)\n",
      "Requirement already satisfied: tzlocal in c:\\users\\shree\\appdata\\local\\programs\\python\\python38\\lib\\site-packages (from streamlit) (4.1)\n",
      "Requirement already satisfied: toml in c:\\users\\shree\\appdata\\roaming\\python\\python38\\site-packages (from streamlit) (0.10.2)\n",
      "Requirement already satisfied: validators in c:\\users\\shree\\appdata\\local\\programs\\python\\python38\\lib\\site-packages (from streamlit) (0.18.2)\n",
      "Requirement already satisfied: pyarrow in c:\\users\\shree\\appdata\\local\\programs\\python\\python38\\lib\\site-packages (from streamlit) (6.0.1)\n",
      "Requirement already satisfied: gitpython!=3.1.19 in c:\\users\\shree\\appdata\\local\\programs\\python\\python38\\lib\\site-packages (from streamlit) (3.1.24)\n",
      "Requirement already satisfied: tornado>=5.0 in c:\\users\\shree\\appdata\\roaming\\python\\python38\\site-packages (from streamlit) (6.1)\n",
      "Requirement already satisfied: scipy>=1.1.0 in c:\\users\\shree\\appdata\\local\\programs\\python\\python38\\lib\\site-packages (from scikit-learn) (1.7.3)\n",
      "Requirement already satisfied: joblib>=0.11 in c:\\users\\shree\\appdata\\local\\programs\\python\\python38\\lib\\site-packages (from scikit-learn) (1.1.0)\n",
      "Requirement already satisfied: threadpoolctl>=2.0.0 in c:\\users\\shree\\appdata\\local\\programs\\python\\python38\\lib\\site-packages (from scikit-learn) (3.0.0)\n",
      "Requirement already satisfied: pyrsistent!=0.17.0,!=0.17.1,!=0.17.2,>=0.14.0 in c:\\users\\shree\\appdata\\local\\programs\\python\\python38\\lib\\site-packages (from jsonschema->altair) (0.18.0)\n",
      "Requirement already satisfied: pytz>=2017.3 in c:\\users\\shree\\appdata\\local\\programs\\python\\python38\\lib\\site-packages (from pandas>=0.18->altair) (2021.3)\n",
      "Requirement already satisfied: MarkupSafe>=0.23 in c:\\users\\shree\\appdata\\local\\programs\\python\\python38\\lib\\site-packages (from jinja2->altair) (1.1.1)\n",
      "Requirement already satisfied: six>=1.5 in c:\\users\\shree\\appdata\\roaming\\python\\python38\\site-packages (from python-dateutil->streamlit) (1.15.0)\n",
      "Requirement already satisfied: pyparsing>=2.0.2 in c:\\users\\shree\\appdata\\local\\programs\\python\\python38\\lib\\site-packages (from packaging->streamlit) (2.4.7)\n",
      "Requirement already satisfied: urllib3!=1.25.0,!=1.25.1,<1.26,>=1.21.1 in c:\\users\\shree\\appdata\\local\\programs\\python\\python38\\lib\\site-packages (from requests->streamlit) (1.25.10)\n",
      "Requirement already satisfied: certifi>=2017.4.17 in c:\\users\\shree\\appdata\\local\\programs\\python\\python38\\lib\\site-packages (from requests->streamlit) (2020.6.20)\n",
      "Requirement already satisfied: chardet<4,>=3.0.2 in c:\\users\\shree\\appdata\\local\\programs\\python\\python38\\lib\\site-packages (from requests->streamlit) (3.0.4)\n",
      "Requirement already satisfied: idna<3,>=2.5 in c:\\users\\shree\\appdata\\local\\programs\\python\\python38\\lib\\site-packages (from requests->streamlit) (2.10)\n",
      "Requirement already satisfied: ipykernel>=5.1.2; python_version >= \"3.4\" in c:\\users\\shree\\appdata\\roaming\\python\\python38\\site-packages (from pydeck>=0.1.dev5->streamlit) (5.5.0)\n",
      "Requirement already satisfied: ipywidgets>=7.0.0 in c:\\users\\shree\\appdata\\local\\programs\\python\\python38\\lib\\site-packages (from pydeck>=0.1.dev5->streamlit) (7.6.5)\n",
      "Requirement already satisfied: traitlets>=4.3.2 in c:\\users\\shree\\appdata\\roaming\\python\\python38\\site-packages (from pydeck>=0.1.dev5->streamlit) (5.0.5)\n",
      "Requirement already satisfied: pytz-deprecation-shim in c:\\users\\shree\\appdata\\local\\programs\\python\\python38\\lib\\site-packages (from tzlocal->streamlit) (0.1.0.post0)\n",
      "Requirement already satisfied: backports.zoneinfo; python_version < \"3.9\" in c:\\users\\shree\\appdata\\local\\programs\\python\\python38\\lib\\site-packages (from tzlocal->streamlit) (0.2.1)\n",
      "Requirement already satisfied: tzdata; platform_system == \"Windows\" in c:\\users\\shree\\appdata\\local\\programs\\python\\python38\\lib\\site-packages (from tzlocal->streamlit) (2021.5)\n",
      "Requirement already satisfied: decorator>=3.4.0 in c:\\users\\shree\\appdata\\roaming\\python\\python38\\site-packages (from validators->streamlit) (4.4.2)\n",
      "Requirement already satisfied: typing-extensions>=3.7.4.3; python_version < \"3.10\" in c:\\users\\shree\\appdata\\local\\programs\\python\\python38\\lib\\site-packages (from gitpython!=3.1.19->streamlit) (4.0.0)\n",
      "Requirement already satisfied: gitdb<5,>=4.0.1 in c:\\users\\shree\\appdata\\local\\programs\\python\\python38\\lib\\site-packages (from gitpython!=3.1.19->streamlit) (4.0.9)\n",
      "Requirement already satisfied: jupyter-client in c:\\users\\shree\\appdata\\roaming\\python\\python38\\site-packages (from ipykernel>=5.1.2; python_version >= \"3.4\"->pydeck>=0.1.dev5->streamlit) (6.1.11)\n",
      "Requirement already satisfied: ipython>=5.0.0 in c:\\users\\shree\\appdata\\roaming\\python\\python38\\site-packages (from ipykernel>=5.1.2; python_version >= \"3.4\"->pydeck>=0.1.dev5->streamlit) (7.20.0)\n",
      "Requirement already satisfied: jupyterlab-widgets>=1.0.0; python_version >= \"3.6\" in c:\\users\\shree\\appdata\\local\\programs\\python\\python38\\lib\\site-packages (from ipywidgets>=7.0.0->pydeck>=0.1.dev5->streamlit) (1.0.2)\n",
      "Requirement already satisfied: nbformat>=4.2.0 in c:\\users\\shree\\appdata\\local\\programs\\python\\python38\\lib\\site-packages (from ipywidgets>=7.0.0->pydeck>=0.1.dev5->streamlit) (5.1.3)\n",
      "Requirement already satisfied: ipython-genutils~=0.2.0 in c:\\users\\shree\\appdata\\roaming\\python\\python38\\site-packages (from ipywidgets>=7.0.0->pydeck>=0.1.dev5->streamlit) (0.2.0)\n",
      "Requirement already satisfied: widgetsnbextension~=3.5.0 in c:\\users\\shree\\appdata\\local\\programs\\python\\python38\\lib\\site-packages (from ipywidgets>=7.0.0->pydeck>=0.1.dev5->streamlit) (3.5.1)\n",
      "Requirement already satisfied: smmap<6,>=3.0.1 in c:\\users\\shree\\appdata\\local\\programs\\python\\python38\\lib\\site-packages (from gitdb<5,>=4.0.1->gitpython!=3.1.19->streamlit) (5.0.0)\n",
      "Requirement already satisfied: pyzmq>=13 in c:\\users\\shree\\appdata\\roaming\\python\\python38\\site-packages (from jupyter-client->ipykernel>=5.1.2; python_version >= \"3.4\"->pydeck>=0.1.dev5->streamlit) (22.0.3)\n",
      "Requirement already satisfied: jupyter-core>=4.6.0 in c:\\users\\shree\\appdata\\roaming\\python\\python38\\site-packages (from jupyter-client->ipykernel>=5.1.2; python_version >= \"3.4\"->pydeck>=0.1.dev5->streamlit) (4.7.1)\n",
      "Requirement already satisfied: prompt-toolkit!=3.0.0,!=3.0.1,<3.1.0,>=2.0.0 in c:\\users\\shree\\appdata\\roaming\\python\\python38\\site-packages (from ipython>=5.0.0->ipykernel>=5.1.2; python_version >= \"3.4\"->pydeck>=0.1.dev5->streamlit) (3.0.16)\n",
      "Requirement already satisfied: jedi>=0.16 in c:\\users\\shree\\appdata\\roaming\\python\\python38\\site-packages (from ipython>=5.0.0->ipykernel>=5.1.2; python_version >= \"3.4\"->pydeck>=0.1.dev5->streamlit) (0.18.0)\n",
      "Requirement already satisfied: pygments in c:\\users\\shree\\appdata\\roaming\\python\\python38\\site-packages (from ipython>=5.0.0->ipykernel>=5.1.2; python_version >= \"3.4\"->pydeck>=0.1.dev5->streamlit) (2.8.0)\n",
      "Requirement already satisfied: backcall in c:\\users\\shree\\appdata\\roaming\\python\\python38\\site-packages (from ipython>=5.0.0->ipykernel>=5.1.2; python_version >= \"3.4\"->pydeck>=0.1.dev5->streamlit) (0.2.0)\n",
      "Requirement already satisfied: setuptools>=18.5 in c:\\users\\shree\\appdata\\local\\programs\\python\\python38\\lib\\site-packages (from ipython>=5.0.0->ipykernel>=5.1.2; python_version >= \"3.4\"->pydeck>=0.1.dev5->streamlit) (47.1.0)\n",
      "Requirement already satisfied: colorama; sys_platform == \"win32\" in c:\\users\\shree\\appdata\\roaming\\python\\python38\\site-packages (from ipython>=5.0.0->ipykernel>=5.1.2; python_version >= \"3.4\"->pydeck>=0.1.dev5->streamlit) (0.4.4)\n",
      "Requirement already satisfied: pickleshare in c:\\users\\shree\\appdata\\roaming\\python\\python38\\site-packages (from ipython>=5.0.0->ipykernel>=5.1.2; python_version >= \"3.4\"->pydeck>=0.1.dev5->streamlit) (0.7.5)\n",
      "Requirement already satisfied: notebook>=4.4.1 in c:\\users\\shree\\appdata\\local\\programs\\python\\python38\\lib\\site-packages (from widgetsnbextension~=3.5.0->ipywidgets>=7.0.0->pydeck>=0.1.dev5->streamlit) (6.4.4)\n",
      "Requirement already satisfied: pywin32>=1.0; sys_platform == \"win32\" in c:\\users\\shree\\appdata\\roaming\\python\\python38\\site-packages (from jupyter-core>=4.6.0->jupyter-client->ipykernel>=5.1.2; python_version >= \"3.4\"->pydeck>=0.1.dev5->streamlit) (300)\n",
      "Requirement already satisfied: wcwidth in c:\\users\\shree\\appdata\\roaming\\python\\python38\\site-packages (from prompt-toolkit!=3.0.0,!=3.0.1,<3.1.0,>=2.0.0->ipython>=5.0.0->ipykernel>=5.1.2; python_version >= \"3.4\"->pydeck>=0.1.dev5->streamlit) (0.2.5)\n",
      "Requirement already satisfied: parso<0.9.0,>=0.8.0 in c:\\users\\shree\\appdata\\roaming\\python\\python38\\site-packages (from jedi>=0.16->ipython>=5.0.0->ipykernel>=5.1.2; python_version >= \"3.4\"->pydeck>=0.1.dev5->streamlit) (0.8.1)\n",
      "Requirement already satisfied: prometheus-client in c:\\users\\shree\\appdata\\local\\programs\\python\\python38\\lib\\site-packages (from notebook>=4.4.1->widgetsnbextension~=3.5.0->ipywidgets>=7.0.0->pydeck>=0.1.dev5->streamlit) (0.11.0)\n",
      "Requirement already satisfied: nbconvert in c:\\users\\shree\\appdata\\local\\programs\\python\\python38\\lib\\site-packages (from notebook>=4.4.1->widgetsnbextension~=3.5.0->ipywidgets>=7.0.0->pydeck>=0.1.dev5->streamlit) (6.2.0)\n",
      "Requirement already satisfied: argon2-cffi in c:\\users\\shree\\appdata\\local\\programs\\python\\python38\\lib\\site-packages (from notebook>=4.4.1->widgetsnbextension~=3.5.0->ipywidgets>=7.0.0->pydeck>=0.1.dev5->streamlit) (21.1.0)\n",
      "Requirement already satisfied: terminado>=0.8.3 in c:\\users\\shree\\appdata\\local\\programs\\python\\python38\\lib\\site-packages (from notebook>=4.4.1->widgetsnbextension~=3.5.0->ipywidgets>=7.0.0->pydeck>=0.1.dev5->streamlit) (0.12.1)\n",
      "Requirement already satisfied: Send2Trash>=1.5.0 in c:\\users\\shree\\appdata\\local\\programs\\python\\python38\\lib\\site-packages (from notebook>=4.4.1->widgetsnbextension~=3.5.0->ipywidgets>=7.0.0->pydeck>=0.1.dev5->streamlit) (1.8.0)\n",
      "Requirement already satisfied: mistune<2,>=0.8.1 in c:\\users\\shree\\appdata\\local\\programs\\python\\python38\\lib\\site-packages (from nbconvert->notebook>=4.4.1->widgetsnbextension~=3.5.0->ipywidgets>=7.0.0->pydeck>=0.1.dev5->streamlit) (0.8.4)\n",
      "Requirement already satisfied: bleach in c:\\users\\shree\\appdata\\local\\programs\\python\\python38\\lib\\site-packages (from nbconvert->notebook>=4.4.1->widgetsnbextension~=3.5.0->ipywidgets>=7.0.0->pydeck>=0.1.dev5->streamlit) (4.1.0)\n",
      "Requirement already satisfied: testpath in c:\\users\\shree\\appdata\\local\\programs\\python\\python38\\lib\\site-packages (from nbconvert->notebook>=4.4.1->widgetsnbextension~=3.5.0->ipywidgets>=7.0.0->pydeck>=0.1.dev5->streamlit) (0.5.0)\n",
      "Requirement already satisfied: pandocfilters>=1.4.1 in c:\\users\\shree\\appdata\\local\\programs\\python\\python38\\lib\\site-packages (from nbconvert->notebook>=4.4.1->widgetsnbextension~=3.5.0->ipywidgets>=7.0.0->pydeck>=0.1.dev5->streamlit) (1.5.0)\n",
      "Requirement already satisfied: defusedxml in c:\\users\\shree\\appdata\\local\\programs\\python\\python38\\lib\\site-packages (from nbconvert->notebook>=4.4.1->widgetsnbextension~=3.5.0->ipywidgets>=7.0.0->pydeck>=0.1.dev5->streamlit) (0.7.1)\n",
      "Requirement already satisfied: nbclient<0.6.0,>=0.5.0 in c:\\users\\shree\\appdata\\local\\programs\\python\\python38\\lib\\site-packages (from nbconvert->notebook>=4.4.1->widgetsnbextension~=3.5.0->ipywidgets>=7.0.0->pydeck>=0.1.dev5->streamlit) (0.5.4)\n",
      "Requirement already satisfied: jupyterlab-pygments in c:\\users\\shree\\appdata\\local\\programs\\python\\python38\\lib\\site-packages (from nbconvert->notebook>=4.4.1->widgetsnbextension~=3.5.0->ipywidgets>=7.0.0->pydeck>=0.1.dev5->streamlit) (0.1.2)\n",
      "Requirement already satisfied: cffi>=1.0.0 in c:\\users\\shree\\appdata\\local\\programs\\python\\python38\\lib\\site-packages (from argon2-cffi->notebook>=4.4.1->widgetsnbextension~=3.5.0->ipywidgets>=7.0.0->pydeck>=0.1.dev5->streamlit) (1.14.6)\n",
      "Requirement already satisfied: pywinpty>=1.1.0; os_name == \"nt\" in c:\\users\\shree\\appdata\\local\\programs\\python\\python38\\lib\\site-packages (from terminado>=0.8.3->notebook>=4.4.1->widgetsnbextension~=3.5.0->ipywidgets>=7.0.0->pydeck>=0.1.dev5->streamlit) (1.1.4)\n",
      "Requirement already satisfied: webencodings in c:\\users\\shree\\appdata\\local\\programs\\python\\python38\\lib\\site-packages (from bleach->nbconvert->notebook>=4.4.1->widgetsnbextension~=3.5.0->ipywidgets>=7.0.0->pydeck>=0.1.dev5->streamlit) (0.5.1)\n",
      "Requirement already satisfied: nest-asyncio in c:\\users\\shree\\appdata\\local\\programs\\python\\python38\\lib\\site-packages (from nbclient<0.6.0,>=0.5.0->nbconvert->notebook>=4.4.1->widgetsnbextension~=3.5.0->ipywidgets>=7.0.0->pydeck>=0.1.dev5->streamlit) (1.5.1)\n",
      "Requirement already satisfied: pycparser in c:\\users\\shree\\appdata\\local\\programs\\python\\python38\\lib\\site-packages (from cffi>=1.0.0->argon2-cffi->notebook>=4.4.1->widgetsnbextension~=3.5.0->ipywidgets>=7.0.0->pydeck>=0.1.dev5->streamlit) (2.20)\n"
     ]
    }
   ],
   "source": [
    "pip install altair streamlit scikit-learn"
   ]
  },
  {
   "cell_type": "code",
   "execution_count": null,
   "id": "2542c2ed",
   "metadata": {},
   "outputs": [],
   "source": [
    "\n"
   ]
  },
  {
   "cell_type": "code",
   "execution_count": null,
   "id": "9b5c6e57",
   "metadata": {},
   "outputs": [],
   "source": []
  },
  {
   "cell_type": "markdown",
   "id": "066fda87",
   "metadata": {},
   "source": [
    "## Sentiment analysis with Emotion Classifier"
   ]
  },
  {
   "cell_type": "code",
   "execution_count": 11,
   "id": "ed7414b0",
   "metadata": {},
   "outputs": [],
   "source": [
    "# Load EDA packages\n",
    "import pandas as pd\n",
    "import numpy as np\n",
    "\n",
    "# Load data visualization packages\n",
    "import seaborn as sns\n",
    "import matplotlib.pyplot as plt\n",
    "\n",
    "# Load text clean packages\n",
    "import neattext.functions as nfx\n",
    "\n",
    "# Load ML packages \n",
    "# Estimators \n",
    "from sklearn.linear_model import LogisticRegression\n",
    "from sklearn.naive_bayes import MultinomialNB\n"
   ]
  },
  {
   "cell_type": "code",
   "execution_count": 12,
   "id": "9c42d37a",
   "metadata": {},
   "outputs": [],
   "source": [
    "# Transformers\n",
    "from sklearn.feature_extraction.text import CountVectorizer\n",
    "from sklearn.model_selection import train_test_split\n",
    "from sklearn.metrics import accuracy_score,classification_report,confusion_matrix"
   ]
  },
  {
   "cell_type": "code",
   "execution_count": 13,
   "id": "2f033fe4",
   "metadata": {},
   "outputs": [],
   "source": [
    "# Load dataset\n",
    "df = pd.read_csv(\"data/tweet_emotions.csv\")"
   ]
  },
  {
   "cell_type": "code",
   "execution_count": 14,
   "id": "cf122a2f",
   "metadata": {},
   "outputs": [
    {
     "data": {
      "text/html": [
       "<div>\n",
       "<style scoped>\n",
       "    .dataframe tbody tr th:only-of-type {\n",
       "        vertical-align: middle;\n",
       "    }\n",
       "\n",
       "    .dataframe tbody tr th {\n",
       "        vertical-align: top;\n",
       "    }\n",
       "\n",
       "    .dataframe thead th {\n",
       "        text-align: right;\n",
       "    }\n",
       "</style>\n",
       "<table border=\"1\" class=\"dataframe\">\n",
       "  <thead>\n",
       "    <tr style=\"text-align: right;\">\n",
       "      <th></th>\n",
       "      <th>tweet_id</th>\n",
       "      <th>sentiment</th>\n",
       "      <th>content</th>\n",
       "    </tr>\n",
       "  </thead>\n",
       "  <tbody>\n",
       "    <tr>\n",
       "      <th>0</th>\n",
       "      <td>1956967341</td>\n",
       "      <td>empty</td>\n",
       "      <td>@tiffanylue i know  i was listenin to bad habi...</td>\n",
       "    </tr>\n",
       "    <tr>\n",
       "      <th>1</th>\n",
       "      <td>1956967666</td>\n",
       "      <td>sadness</td>\n",
       "      <td>Layin n bed with a headache  ughhhh...waitin o...</td>\n",
       "    </tr>\n",
       "    <tr>\n",
       "      <th>2</th>\n",
       "      <td>1956967696</td>\n",
       "      <td>sadness</td>\n",
       "      <td>Funeral ceremony...gloomy friday...</td>\n",
       "    </tr>\n",
       "    <tr>\n",
       "      <th>3</th>\n",
       "      <td>1956967789</td>\n",
       "      <td>enthusiasm</td>\n",
       "      <td>wants to hang out with friends SOON!</td>\n",
       "    </tr>\n",
       "    <tr>\n",
       "      <th>4</th>\n",
       "      <td>1956968416</td>\n",
       "      <td>neutral</td>\n",
       "      <td>@dannycastillo We want to trade with someone w...</td>\n",
       "    </tr>\n",
       "  </tbody>\n",
       "</table>\n",
       "</div>"
      ],
      "text/plain": [
       "     tweet_id   sentiment                                            content\n",
       "0  1956967341       empty  @tiffanylue i know  i was listenin to bad habi...\n",
       "1  1956967666     sadness  Layin n bed with a headache  ughhhh...waitin o...\n",
       "2  1956967696     sadness                Funeral ceremony...gloomy friday...\n",
       "3  1956967789  enthusiasm               wants to hang out with friends SOON!\n",
       "4  1956968416     neutral  @dannycastillo We want to trade with someone w..."
      ]
     },
     "execution_count": 14,
     "metadata": {},
     "output_type": "execute_result"
    }
   ],
   "source": [
    "df.head()"
   ]
  },
  {
   "cell_type": "code",
   "execution_count": 15,
   "id": "3cf63952",
   "metadata": {},
   "outputs": [
    {
     "data": {
      "text/plain": [
       "neutral       8638\n",
       "worry         8459\n",
       "happiness     5209\n",
       "sadness       5165\n",
       "love          3842\n",
       "surprise      2187\n",
       "fun           1776\n",
       "relief        1526\n",
       "hate          1323\n",
       "empty          827\n",
       "enthusiasm     759\n",
       "boredom        179\n",
       "anger          110\n",
       "Name: sentiment, dtype: int64"
      ]
     },
     "execution_count": 15,
     "metadata": {},
     "output_type": "execute_result"
    }
   ],
   "source": [
    "# value count\n",
    "df['sentiment'].value_counts()"
   ]
  },
  {
   "cell_type": "code",
   "execution_count": 16,
   "id": "906ccd1f",
   "metadata": {},
   "outputs": [
    {
     "data": {
      "text/plain": [
       "(array([ 0,  1,  2,  3,  4,  5,  6,  7,  8,  9, 10, 11, 12]),\n",
       " [Text(0, 0, 'empty'),\n",
       "  Text(1, 0, 'sadness'),\n",
       "  Text(2, 0, 'enthusiasm'),\n",
       "  Text(3, 0, 'neutral'),\n",
       "  Text(4, 0, 'worry'),\n",
       "  Text(5, 0, 'surprise'),\n",
       "  Text(6, 0, 'love'),\n",
       "  Text(7, 0, 'fun'),\n",
       "  Text(8, 0, 'hate'),\n",
       "  Text(9, 0, 'happiness'),\n",
       "  Text(10, 0, 'boredom'),\n",
       "  Text(11, 0, 'relief'),\n",
       "  Text(12, 0, 'anger')])"
      ]
     },
     "execution_count": 16,
     "metadata": {},
     "output_type": "execute_result"
    },
    {
     "data": {
      "image/png": "[encoded data removed]",
      "text/plain": [
       "<Figure size 720x360 with 1 Axes>"
      ]
     },
     "metadata": {
      "needs_background": "light"
     },
     "output_type": "display_data"
    }
   ],
   "source": [
    "# Plot\n",
    "plt.figure(figsize=(10,5))\n",
    "chart = sns.countplot(x = 'sentiment', data = df)\n",
    "plt.xticks(\n",
    "    rotation=45, \n",
    "    horizontalalignment='right',\n",
    "    fontweight='light',\n",
    "    fontsize='x-large'  \n",
    ")"
   ]
  },
  {
   "cell_type": "markdown",
   "id": "cf7976cf",
   "metadata": {},
   "source": [
    "### Data Cleaning"
   ]
  },
  {
   "cell_type": "code",
   "execution_count": 22,
   "id": "f60c9372",
   "metadata": {},
   "outputs": [
    {
     "data": {
      "text/plain": [
       "['BTC_ADDRESS_REGEX',\n",
       " 'CURRENCY_REGEX',\n",
       " 'CURRENCY_SYMB_REGEX',\n",
       " 'Counter',\n",
       " 'DATE_REGEX',\n",
       " 'EMAIL_REGEX',\n",
       " 'EMOJI_REGEX',\n",
       " 'HASTAG_REGEX',\n",
       " 'MASTERCard_REGEX',\n",
       " 'MD5_SHA_REGEX',\n",
       " 'MOST_COMMON_PUNCT_REGEX',\n",
       " 'NUMBERS_REGEX',\n",
       " 'PHONE_REGEX',\n",
       " 'PoBOX_REGEX',\n",
       " 'SPECIAL_CHARACTERS_REGEX',\n",
       " 'STOPWORDS',\n",
       " 'STOPWORDS_de',\n",
       " 'STOPWORDS_en',\n",
       " 'STOPWORDS_es',\n",
       " 'STOPWORDS_fr',\n",
       " 'STOPWORDS_ru',\n",
       " 'STOPWORDS_yo',\n",
       " 'STREET_ADDRESS_REGEX',\n",
       " 'TextFrame',\n",
       " 'URL_PATTERN',\n",
       " 'USER_HANDLES_REGEX',\n",
       " 'VISACard_REGEX',\n",
       " '__builtins__',\n",
       " '__cached__',\n",
       " '__doc__',\n",
       " '__file__',\n",
       " '__generate_text',\n",
       " '__loader__',\n",
       " '__name__',\n",
       " '__numbers_dict',\n",
       " '__package__',\n",
       " '__spec__',\n",
       " '_lex_richness_herdan',\n",
       " '_lex_richness_maas_ttr',\n",
       " 'clean_text',\n",
       " 'defaultdict',\n",
       " 'digit2words',\n",
       " 'extract_btc_address',\n",
       " 'extract_currencies',\n",
       " 'extract_currency_symbols',\n",
       " 'extract_dates',\n",
       " 'extract_emails',\n",
       " 'extract_emojis',\n",
       " 'extract_hashtags',\n",
       " 'extract_html_tags',\n",
       " 'extract_mastercard_addr',\n",
       " 'extract_md5sha',\n",
       " 'extract_numbers',\n",
       " 'extract_pattern',\n",
       " 'extract_phone_numbers',\n",
       " 'extract_postoffice_box',\n",
       " 'extract_shortwords',\n",
       " 'extract_special_characters',\n",
       " 'extract_stopwords',\n",
       " 'extract_street_address',\n",
       " 'extract_terms_in_bracket',\n",
       " 'extract_urls',\n",
       " 'extract_userhandles',\n",
       " 'extract_visacard_addr',\n",
       " 'fix_contractions',\n",
       " 'generate_sentence',\n",
       " 'hamming_distance',\n",
       " 'inverse_df',\n",
       " 'lexical_richness',\n",
       " 'markov_chain',\n",
       " 'math',\n",
       " 'nlargest',\n",
       " 'normalize',\n",
       " 'num2words',\n",
       " 'random',\n",
       " 're',\n",
       " 'read_txt',\n",
       " 'remove_bad_quotes',\n",
       " 'remove_btc_address',\n",
       " 'remove_currencies',\n",
       " 'remove_currency_symbols',\n",
       " 'remove_custom_pattern',\n",
       " 'remove_custom_words',\n",
       " 'remove_dates',\n",
       " 'remove_emails',\n",
       " 'remove_emojis',\n",
       " 'remove_hashtags',\n",
       " 'remove_html_tags',\n",
       " 'remove_mastercard_addr',\n",
       " 'remove_md5sha',\n",
       " 'remove_multiple_spaces',\n",
       " 'remove_non_ascii',\n",
       " 'remove_numbers',\n",
       " 'remove_phone_numbers',\n",
       " 'remove_postoffice_box',\n",
       " 'remove_puncts',\n",
       " 'remove_punctuations',\n",
       " 'remove_shortwords',\n",
       " 'remove_special_characters',\n",
       " 'remove_stopwords',\n",
       " 'remove_street_address',\n",
       " 'remove_terms_in_bracket',\n",
       " 'remove_urls',\n",
       " 'remove_userhandles',\n",
       " 'remove_visacard_addr',\n",
       " 'replace_bad_quotes',\n",
       " 'replace_currencies',\n",
       " 'replace_currency_symbols',\n",
       " 'replace_dates',\n",
       " 'replace_emails',\n",
       " 'replace_emojis',\n",
       " 'replace_numbers',\n",
       " 'replace_phone_numbers',\n",
       " 'replace_special_characters',\n",
       " 'replace_term',\n",
       " 'replace_urls',\n",
       " 'string',\n",
       " 'term_freq',\n",
       " 'to_txt',\n",
       " 'word_freq',\n",
       " 'word_length_freq']"
      ]
     },
     "execution_count": 22,
     "metadata": {},
     "output_type": "execute_result"
    }
   ],
   "source": [
    "dir(nfx)"
   ]
  },
  {
   "cell_type": "code",
   "execution_count": 25,
   "id": "2ba4a7ef",
   "metadata": {},
   "outputs": [
    {
     "data": {
      "text/plain": [
       "0        @tiffanylue i know  i was listenin to bad habi...\n",
       "1        Layin n bed with a headache  ughhhh...waitin o...\n",
       "2                      Funeral ceremony...gloomy friday...\n",
       "3                     wants to hang out with friends SOON!\n",
       "4        @dannycastillo We want to trade with someone w...\n",
       "                               ...                        \n",
       "39995                                     @JohnLloydTaylor\n",
       "39996                       Happy Mothers Day  All my love\n",
       "39997    Happy Mother's Day to all the mommies out ther...\n",
       "39998    @niariley WASSUP BEAUTIFUL!!! FOLLOW ME!!  PEE...\n",
       "39999    @mopedronin bullet train from tokyo    the gf ...\n",
       "Name: content, Length: 40000, dtype: object"
      ]
     },
     "execution_count": 25,
     "metadata": {},
     "output_type": "execute_result"
    }
   ],
   "source": [
    "df['content']"
   ]
  },
  {
   "cell_type": "code",
   "execution_count": 27,
   "id": "a48ca491",
   "metadata": {},
   "outputs": [],
   "source": [
    "# Data cleaning\n",
    "# Removing user handles\n",
    "df['Clean_Text'] = df['content'].apply(nfx.remove_userhandles)\n",
    "\n",
    "# Removing stop words\n",
    "df['Clean_Text'] = df['Clean_Text'].apply(nfx.remove_stopwords)"
   ]
  },
  {
   "cell_type": "code",
   "execution_count": 28,
   "id": "d4346704",
   "metadata": {},
   "outputs": [
    {
     "data": {
      "text/html": [
       "<div>\n",
       "<style scoped>\n",
       "    .dataframe tbody tr th:only-of-type {\n",
       "        vertical-align: middle;\n",
       "    }\n",
       "\n",
       "    .dataframe tbody tr th {\n",
       "        vertical-align: top;\n",
       "    }\n",
       "\n",
       "    .dataframe thead th {\n",
       "        text-align: right;\n",
       "    }\n",
       "</style>\n",
       "<table border=\"1\" class=\"dataframe\">\n",
       "  <thead>\n",
       "    <tr style=\"text-align: right;\">\n",
       "      <th></th>\n",
       "      <th>tweet_id</th>\n",
       "      <th>sentiment</th>\n",
       "      <th>content</th>\n",
       "      <th>Clean_Text</th>\n",
       "    </tr>\n",
       "  </thead>\n",
       "  <tbody>\n",
       "    <tr>\n",
       "      <th>0</th>\n",
       "      <td>1956967341</td>\n",
       "      <td>empty</td>\n",
       "      <td>@tiffanylue i know  i was listenin to bad habi...</td>\n",
       "      <td>know listenin bad habit earlier started freaki...</td>\n",
       "    </tr>\n",
       "    <tr>\n",
       "      <th>1</th>\n",
       "      <td>1956967666</td>\n",
       "      <td>sadness</td>\n",
       "      <td>Layin n bed with a headache  ughhhh...waitin o...</td>\n",
       "      <td>Layin n bed headache ughhhh...waitin call...</td>\n",
       "    </tr>\n",
       "    <tr>\n",
       "      <th>2</th>\n",
       "      <td>1956967696</td>\n",
       "      <td>sadness</td>\n",
       "      <td>Funeral ceremony...gloomy friday...</td>\n",
       "      <td>Funeral ceremony...gloomy friday...</td>\n",
       "    </tr>\n",
       "    <tr>\n",
       "      <th>3</th>\n",
       "      <td>1956967789</td>\n",
       "      <td>enthusiasm</td>\n",
       "      <td>wants to hang out with friends SOON!</td>\n",
       "      <td>wants hang friends SOON!</td>\n",
       "    </tr>\n",
       "    <tr>\n",
       "      <th>4</th>\n",
       "      <td>1956968416</td>\n",
       "      <td>neutral</td>\n",
       "      <td>@dannycastillo We want to trade with someone w...</td>\n",
       "      <td>want trade Houston tickets, will.</td>\n",
       "    </tr>\n",
       "    <tr>\n",
       "      <th>...</th>\n",
       "      <td>...</td>\n",
       "      <td>...</td>\n",
       "      <td>...</td>\n",
       "      <td>...</td>\n",
       "    </tr>\n",
       "    <tr>\n",
       "      <th>39995</th>\n",
       "      <td>1753918954</td>\n",
       "      <td>neutral</td>\n",
       "      <td>@JohnLloydTaylor</td>\n",
       "      <td></td>\n",
       "    </tr>\n",
       "    <tr>\n",
       "      <th>39996</th>\n",
       "      <td>1753919001</td>\n",
       "      <td>love</td>\n",
       "      <td>Happy Mothers Day  All my love</td>\n",
       "      <td>Happy Mothers Day love</td>\n",
       "    </tr>\n",
       "    <tr>\n",
       "      <th>39997</th>\n",
       "      <td>1753919005</td>\n",
       "      <td>love</td>\n",
       "      <td>Happy Mother's Day to all the mommies out ther...</td>\n",
       "      <td>Happy Mother's Day mommies there, woman man lo...</td>\n",
       "    </tr>\n",
       "    <tr>\n",
       "      <th>39998</th>\n",
       "      <td>1753919043</td>\n",
       "      <td>happiness</td>\n",
       "      <td>@niariley WASSUP BEAUTIFUL!!! FOLLOW ME!!  PEE...</td>\n",
       "      <td>WASSUP BEAUTIFUL!!! FOLLOW ME!! PEEP NEW HIT S...</td>\n",
       "    </tr>\n",
       "    <tr>\n",
       "      <th>39999</th>\n",
       "      <td>1753919049</td>\n",
       "      <td>love</td>\n",
       "      <td>@mopedronin bullet train from tokyo    the gf ...</td>\n",
       "      <td>bullet train tokyo gf visiting japan thursday ...</td>\n",
       "    </tr>\n",
       "  </tbody>\n",
       "</table>\n",
       "<p>40000 rows × 4 columns</p>\n",
       "</div>"
      ],
      "text/plain": [
       "         tweet_id   sentiment  \\\n",
       "0      1956967341       empty   \n",
       "1      1956967666     sadness   \n",
       "2      1956967696     sadness   \n",
       "3      1956967789  enthusiasm   \n",
       "4      1956968416     neutral   \n",
       "...           ...         ...   \n",
       "39995  1753918954     neutral   \n",
       "39996  1753919001        love   \n",
       "39997  1753919005        love   \n",
       "39998  1753919043   happiness   \n",
       "39999  1753919049        love   \n",
       "\n",
       "                                                 content  \\\n",
       "0      @tiffanylue i know  i was listenin to bad habi...   \n",
       "1      Layin n bed with a headache  ughhhh...waitin o...   \n",
       "2                    Funeral ceremony...gloomy friday...   \n",
       "3                   wants to hang out with friends SOON!   \n",
       "4      @dannycastillo We want to trade with someone w...   \n",
       "...                                                  ...   \n",
       "39995                                   @JohnLloydTaylor   \n",
       "39996                     Happy Mothers Day  All my love   \n",
       "39997  Happy Mother's Day to all the mommies out ther...   \n",
       "39998  @niariley WASSUP BEAUTIFUL!!! FOLLOW ME!!  PEE...   \n",
       "39999  @mopedronin bullet train from tokyo    the gf ...   \n",
       "\n",
       "                                              Clean_Text  \n",
       "0      know listenin bad habit earlier started freaki...  \n",
       "1           Layin n bed headache ughhhh...waitin call...  \n",
       "2                    Funeral ceremony...gloomy friday...  \n",
       "3                               wants hang friends SOON!  \n",
       "4                      want trade Houston tickets, will.  \n",
       "...                                                  ...  \n",
       "39995                                                     \n",
       "39996                             Happy Mothers Day love  \n",
       "39997  Happy Mother's Day mommies there, woman man lo...  \n",
       "39998  WASSUP BEAUTIFUL!!! FOLLOW ME!! PEEP NEW HIT S...  \n",
       "39999  bullet train tokyo gf visiting japan thursday ...  \n",
       "\n",
       "[40000 rows x 4 columns]"
      ]
     },
     "execution_count": 28,
     "metadata": {},
     "output_type": "execute_result"
    }
   ],
   "source": [
    "df"
   ]
  },
  {
   "cell_type": "code",
   "execution_count": 30,
   "id": "f3e0d0c0",
   "metadata": {},
   "outputs": [],
   "source": [
    "# Removing special characters\n",
    "df['Clean_Text'] = df['Clean_Text'].apply(nfx.remove_special_characters)"
   ]
  },
  {
   "cell_type": "code",
   "execution_count": 31,
   "id": "a7458820",
   "metadata": {},
   "outputs": [
    {
     "data": {
      "text/html": [
       "<div>\n",
       "<style scoped>\n",
       "    .dataframe tbody tr th:only-of-type {\n",
       "        vertical-align: middle;\n",
       "    }\n",
       "\n",
       "    .dataframe tbody tr th {\n",
       "        vertical-align: top;\n",
       "    }\n",
       "\n",
       "    .dataframe thead th {\n",
       "        text-align: right;\n",
       "    }\n",
       "</style>\n",
       "<table border=\"1\" class=\"dataframe\">\n",
       "  <thead>\n",
       "    <tr style=\"text-align: right;\">\n",
       "      <th></th>\n",
       "      <th>tweet_id</th>\n",
       "      <th>sentiment</th>\n",
       "      <th>content</th>\n",
       "      <th>Clean_Text</th>\n",
       "    </tr>\n",
       "  </thead>\n",
       "  <tbody>\n",
       "    <tr>\n",
       "      <th>0</th>\n",
       "      <td>1956967341</td>\n",
       "      <td>empty</td>\n",
       "      <td>@tiffanylue i know  i was listenin to bad habi...</td>\n",
       "      <td>know listenin bad habit earlier started freakin</td>\n",
       "    </tr>\n",
       "    <tr>\n",
       "      <th>1</th>\n",
       "      <td>1956967666</td>\n",
       "      <td>sadness</td>\n",
       "      <td>Layin n bed with a headache  ughhhh...waitin o...</td>\n",
       "      <td>Layin n bed headache ughhhhwaitin call</td>\n",
       "    </tr>\n",
       "    <tr>\n",
       "      <th>2</th>\n",
       "      <td>1956967696</td>\n",
       "      <td>sadness</td>\n",
       "      <td>Funeral ceremony...gloomy friday...</td>\n",
       "      <td>Funeral ceremonygloomy friday</td>\n",
       "    </tr>\n",
       "    <tr>\n",
       "      <th>3</th>\n",
       "      <td>1956967789</td>\n",
       "      <td>enthusiasm</td>\n",
       "      <td>wants to hang out with friends SOON!</td>\n",
       "      <td>wants hang friends SOON</td>\n",
       "    </tr>\n",
       "    <tr>\n",
       "      <th>4</th>\n",
       "      <td>1956968416</td>\n",
       "      <td>neutral</td>\n",
       "      <td>@dannycastillo We want to trade with someone w...</td>\n",
       "      <td>want trade Houston tickets will</td>\n",
       "    </tr>\n",
       "    <tr>\n",
       "      <th>...</th>\n",
       "      <td>...</td>\n",
       "      <td>...</td>\n",
       "      <td>...</td>\n",
       "      <td>...</td>\n",
       "    </tr>\n",
       "    <tr>\n",
       "      <th>39995</th>\n",
       "      <td>1753918954</td>\n",
       "      <td>neutral</td>\n",
       "      <td>@JohnLloydTaylor</td>\n",
       "      <td></td>\n",
       "    </tr>\n",
       "    <tr>\n",
       "      <th>39996</th>\n",
       "      <td>1753919001</td>\n",
       "      <td>love</td>\n",
       "      <td>Happy Mothers Day  All my love</td>\n",
       "      <td>Happy Mothers Day love</td>\n",
       "    </tr>\n",
       "    <tr>\n",
       "      <th>39997</th>\n",
       "      <td>1753919005</td>\n",
       "      <td>love</td>\n",
       "      <td>Happy Mother's Day to all the mommies out ther...</td>\n",
       "      <td>Happy Mothers Day mommies there woman man long...</td>\n",
       "    </tr>\n",
       "    <tr>\n",
       "      <th>39998</th>\n",
       "      <td>1753919043</td>\n",
       "      <td>happiness</td>\n",
       "      <td>@niariley WASSUP BEAUTIFUL!!! FOLLOW ME!!  PEE...</td>\n",
       "      <td>WASSUP BEAUTIFUL FOLLOW ME PEEP NEW HIT SINGLE...</td>\n",
       "    </tr>\n",
       "    <tr>\n",
       "      <th>39999</th>\n",
       "      <td>1753919049</td>\n",
       "      <td>love</td>\n",
       "      <td>@mopedronin bullet train from tokyo    the gf ...</td>\n",
       "      <td>bullet train tokyo gf visiting japan thursday ...</td>\n",
       "    </tr>\n",
       "  </tbody>\n",
       "</table>\n",
       "<p>40000 rows × 4 columns</p>\n",
       "</div>"
      ],
      "text/plain": [
       "         tweet_id   sentiment  \\\n",
       "0      1956967341       empty   \n",
       "1      1956967666     sadness   \n",
       "2      1956967696     sadness   \n",
       "3      1956967789  enthusiasm   \n",
       "4      1956968416     neutral   \n",
       "...           ...         ...   \n",
       "39995  1753918954     neutral   \n",
       "39996  1753919001        love   \n",
       "39997  1753919005        love   \n",
       "39998  1753919043   happiness   \n",
       "39999  1753919049        love   \n",
       "\n",
       "                                                 content  \\\n",
       "0      @tiffanylue i know  i was listenin to bad habi...   \n",
       "1      Layin n bed with a headache  ughhhh...waitin o...   \n",
       "2                    Funeral ceremony...gloomy friday...   \n",
       "3                   wants to hang out with friends SOON!   \n",
       "4      @dannycastillo We want to trade with someone w...   \n",
       "...                                                  ...   \n",
       "39995                                   @JohnLloydTaylor   \n",
       "39996                     Happy Mothers Day  All my love   \n",
       "39997  Happy Mother's Day to all the mommies out ther...   \n",
       "39998  @niariley WASSUP BEAUTIFUL!!! FOLLOW ME!!  PEE...   \n",
       "39999  @mopedronin bullet train from tokyo    the gf ...   \n",
       "\n",
       "                                              Clean_Text  \n",
       "0       know listenin bad habit earlier started freakin   \n",
       "1                 Layin n bed headache ughhhhwaitin call  \n",
       "2                          Funeral ceremonygloomy friday  \n",
       "3                                wants hang friends SOON  \n",
       "4                        want trade Houston tickets will  \n",
       "...                                                  ...  \n",
       "39995                                                     \n",
       "39996                             Happy Mothers Day love  \n",
       "39997  Happy Mothers Day mommies there woman man long...  \n",
       "39998  WASSUP BEAUTIFUL FOLLOW ME PEEP NEW HIT SINGLE...  \n",
       "39999  bullet train tokyo gf visiting japan thursday ...  \n",
       "\n",
       "[40000 rows x 4 columns]"
      ]
     },
     "execution_count": 31,
     "metadata": {},
     "output_type": "execute_result"
    }
   ],
   "source": [
    "df"
   ]
  },
  {
   "cell_type": "markdown",
   "id": "b80117fb",
   "metadata": {},
   "source": [
    "### Features and Labels"
   ]
  },
  {
   "cell_type": "code",
   "execution_count": 33,
   "id": "c62659b6",
   "metadata": {},
   "outputs": [],
   "source": [
    "XFeatures = df['Clean_Text']\n",
    "ylabels = df['sentiment']"
   ]
  },
  {
   "cell_type": "code",
   "execution_count": 35,
   "id": "1cef62d9",
   "metadata": {},
   "outputs": [],
   "source": [
    "# Split data\n",
    "x_train, x_test, y_train, y_test = train_test_split(XFeatures, ylabels, test_size = 0.3, random_state = 42)"
   ]
  },
  {
   "cell_type": "markdown",
   "id": "1ad2513f",
   "metadata": {},
   "source": [
    "### Build Pipeline"
   ]
  },
  {
   "cell_type": "code",
   "execution_count": 36,
   "id": "840b8559",
   "metadata": {},
   "outputs": [],
   "source": [
    "from sklearn.pipeline import Pipeline"
   ]
  },
  {
   "cell_type": "code",
   "execution_count": 38,
   "id": "af7f6461",
   "metadata": {},
   "outputs": [],
   "source": [
    "# LogisticRegression Pipeline\n",
    "pipe_lr = Pipeline(steps = [('cv', CountVectorizer()), ('lr', LogisticRegression())])"
   ]
  },
  {
   "cell_type": "code",
   "execution_count": 39,
   "id": "23ff92d9",
   "metadata": {},
   "outputs": [
    {
     "name": "stderr",
     "output_type": "stream",
     "text": [
      "c:\\users\\shree\\appdata\\local\\programs\\python\\python38\\lib\\site-packages\\sklearn\\linear_model\\_logistic.py:814: ConvergenceWarning: lbfgs failed to converge (status=1):\n",
      "STOP: TOTAL NO. of ITERATIONS REACHED LIMIT.\n",
      "\n",
      "Increase the number of iterations (max_iter) or scale the data as shown in:\n",
      "    https://scikit-learn.org/stable/modules/preprocessing.html\n",
      "Please also refer to the documentation for alternative solver options:\n",
      "    https://scikit-learn.org/stable/modules/linear_model.html#logistic-regression\n",
      "  n_iter_i = _check_optimize_result(\n"
     ]
    },
    {
     "data": {
      "text/plain": [
       "Pipeline(steps=[('cv', CountVectorizer()), ('lr', LogisticRegression())])"
      ]
     },
     "execution_count": 39,
     "metadata": {},
     "output_type": "execute_result"
    }
   ],
   "source": [
    "# Train and fit data\n",
    "pipe_lr.fit(x_train, y_train)"
   ]
  },
  {
   "cell_type": "code",
   "execution_count": 41,
   "id": "142e78d4",
   "metadata": {},
   "outputs": [
    {
     "data": {
      "text/plain": [
       "Pipeline(steps=[('cv', CountVectorizer()), ('lr', LogisticRegression())])"
      ]
     },
     "execution_count": 41,
     "metadata": {},
     "output_type": "execute_result"
    }
   ],
   "source": [
    "pipe_lr"
   ]
  },
  {
   "cell_type": "code",
   "execution_count": null,
   "id": "e97fc8e8",
   "metadata": {},
   "outputs": [],
   "source": []
  },
  {
   "cell_type": "markdown",
   "id": "c646cda8",
   "metadata": {},
   "source": [
    "### Check Accuracy of the model\n"
   ]
  },
  {
   "cell_type": "code",
   "execution_count": 40,
   "id": "501bf984",
   "metadata": {},
   "outputs": [
    {
     "data": {
      "text/plain": [
       "0.33308333333333334"
      ]
     },
     "execution_count": 40,
     "metadata": {},
     "output_type": "execute_result"
    }
   ],
   "source": [
    "pipe_lr.score(x_test, y_test)"
   ]
  },
  {
   "cell_type": "markdown",
   "id": "97c0f79e",
   "metadata": {},
   "source": [
    "### Make Prediction"
   ]
  },
  {
   "cell_type": "code",
   "execution_count": 43,
   "id": "68e8dd22",
   "metadata": {},
   "outputs": [],
   "source": [
    "ex1 = \"This movie was very interesting, It made me happy and excited !\""
   ]
  },
  {
   "cell_type": "code",
   "execution_count": 44,
   "id": "e17f4234",
   "metadata": {},
   "outputs": [
    {
     "data": {
      "text/plain": [
       "array(['happiness'], dtype=object)"
      ]
     },
     "execution_count": 44,
     "metadata": {},
     "output_type": "execute_result"
    }
   ],
   "source": [
    "pipe_lr.predict([ex1])"
   ]
  },
  {
   "cell_type": "code",
   "execution_count": 48,
   "id": "7c5a5d9e",
   "metadata": {},
   "outputs": [
    {
     "data": {
      "text/plain": [
       "array(['worry'], dtype=object)"
      ]
     },
     "execution_count": 48,
     "metadata": {},
     "output_type": "execute_result"
    }
   ],
   "source": [
    "ex2 = \"This book, It made me cry !\"\n",
    "pipe_lr.predict([ex2])"
   ]
  },
  {
   "cell_type": "code",
   "execution_count": 49,
   "id": "ff57b6ec",
   "metadata": {},
   "outputs": [
    {
     "data": {
      "text/plain": [
       "array([[3.04123365e-04, 2.12732542e-04, 2.25038990e-04, 1.21651211e-03,\n",
       "        2.86826357e-03, 6.13313305e-01, 1.64162952e-03, 3.66192226e-01,\n",
       "        1.48744566e-03, 9.74888035e-04, 1.42627499e-03, 7.86969447e-03,\n",
       "        2.26786561e-03]])"
      ]
     },
     "execution_count": 49,
     "metadata": {},
     "output_type": "execute_result"
    }
   ],
   "source": [
    "# Prediction probability\n",
    "pipe_lr.predict_proba([ex1])"
   ]
  },
  {
   "cell_type": "code",
   "execution_count": 50,
   "id": "bc1e88b7",
   "metadata": {},
   "outputs": [
    {
     "data": {
      "text/plain": [
       "array([[0.0043376 , 0.00276804, 0.00631118, 0.00277198, 0.00812873,\n",
       "        0.08479637, 0.04683282, 0.19382333, 0.1084753 , 0.00736089,\n",
       "        0.17526441, 0.0838053 , 0.27532406]])"
      ]
     },
     "execution_count": 50,
     "metadata": {},
     "output_type": "execute_result"
    }
   ],
   "source": [
    "pipe_lr.predict_proba([ex2])"
   ]
  },
  {
   "cell_type": "code",
   "execution_count": 52,
   "id": "8afc6668",
   "metadata": {},
   "outputs": [
    {
     "data": {
      "text/plain": [
       "array(['anger', 'boredom', 'empty', 'enthusiasm', 'fun', 'happiness',\n",
       "       'hate', 'love', 'neutral', 'relief', 'sadness', 'surprise',\n",
       "       'worry'], dtype=object)"
      ]
     },
     "execution_count": 52,
     "metadata": {},
     "output_type": "execute_result"
    }
   ],
   "source": [
    "# To know the classes\n",
    "pipe_lr.classes_"
   ]
  },
  {
   "cell_type": "code",
   "execution_count": 53,
   "id": "8429e591",
   "metadata": {},
   "outputs": [],
   "source": [
    "# Save Model and Pipeline\n",
    "import joblib\n",
    "pipeline_file = open(\"sentiment_classifier_pipe_lr.pkl\", \"wb\")\n",
    "joblib.dump(pipe_lr, pipeline_file)\n",
    "pipeline_file.close()"
   ]
  },
  {
   "cell_type": "code",
   "execution_count": null,
   "id": "67882fa2",
   "metadata": {},
   "outputs": [],
   "source": []
  }
 ],
 "metadata": {
  "kernelspec": {
   "display_name": "Python 3",
   "language": "python",
   "name": "python3"
  },
  "language_info": {
   "codemirror_mode": {
    "name": "ipython",
    "version": 3
   },
   "file_extension": ".py",
   "mimetype": "text/x-python",
   "name": "python",
   "nbconvert_exporter": "python",
   "pygments_lexer": "ipython3",
   "version": "3.8.5"
  }
 },
 "nbformat": 4,
 "nbformat_minor": 5
}
